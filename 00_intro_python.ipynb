{
  "nbformat": 4,
  "nbformat_minor": 0,
  "metadata": {
    "colab": {
      "provenance": [],
      "authorship_tag": "ABX9TyMRTC3hzxqYcjsrbRjjXuqL",
      "include_colab_link": true
    },
    "kernelspec": {
      "name": "python3",
      "display_name": "Python 3"
    },
    "language_info": {
      "name": "python"
    }
  },
  "cells": [
    {
      "cell_type": "markdown",
      "metadata": {
        "id": "view-in-github",
        "colab_type": "text"
      },
      "source": [
        "<a href=\"https://colab.research.google.com/github/sjshikoh/Assignment_04/blob/main/00_intro_python.ipynb\" target=\"_parent\"><img src=\"https://colab.research.google.com/assets/colab-badge.svg\" alt=\"Open In Colab\"/></a>"
      ]
    },
    {
      "cell_type": "markdown",
      "source": [
        "01_add_two_numbers.md"
      ],
      "metadata": {
        "id": "5uo0PUKsYbdx"
      }
    },
    {
      "cell_type": "code",
      "execution_count": null,
      "metadata": {
        "colab": {
          "base_uri": "https://localhost:8080/"
        },
        "id": "RDAV4EQST_mD",
        "outputId": "057305a1-41b6-4e1e-ec68-f59ff2bc2ec2"
      },
      "outputs": [
        {
          "output_type": "stream",
          "name": "stdout",
          "text": [
            "This program adds two numbers.\n",
            "enter your first number: 7\n",
            "enter your second number: 8\n",
            "the total is: 15\n"
          ]
        }
      ],
      "source": [
        "def main():\n",
        "    print(\"This program adds two numbers.\") # introduction\n",
        "    num1: str = input(\"enter your first number: \") # Prompt for first number\n",
        "    num1: int = int(num1)\n",
        "    num2: str = input(\"enter your second number: \") # Prompt for second number\n",
        "    num2: int = int(num2)\n",
        "    total: int = num1 + num2 # Calculate the sum\n",
        "    print(f\"the total is: {total}\")\n",
        "\n",
        "# This provided line is required to call the main() function\n",
        "if __name__ == '__main__':\n",
        "        main()\n"
      ]
    },
    {
      "cell_type": "markdown",
      "source": [
        "\n",
        "\n",
        "---\n",
        "02_agreement_bot.md\n"
      ],
      "metadata": {
        "id": "Lyat8EKbYlky"
      }
    },
    {
      "cell_type": "code",
      "source": [
        "def main():\n",
        "  fav_animal = input(\"What is your favorite animal? \") # Prompt for their favorite animal\n",
        "  print(f\"My favorite animal is also {fav_animal}!\") # Respond with same animal in the sentence\n",
        "\n",
        "\n",
        "# This provided line is required at the end of\n",
        "# Python file to call the main() function.\n",
        "if __name__ == '__main__':\n",
        "    main()"
      ],
      "metadata": {
        "colab": {
          "base_uri": "https://localhost:8080/"
        },
        "id": "zAwVMhzuY4Si",
        "outputId": "2f3aa8c2-fd03-4112-a336-a6d2f519b9b6"
      },
      "execution_count": null,
      "outputs": [
        {
          "output_type": "stream",
          "name": "stdout",
          "text": [
            "What is your favorite animal? cat\n",
            "My favorite animal is also cat!\n"
          ]
        }
      ]
    },
    {
      "cell_type": "markdown",
      "source": [
        "\n",
        "\n",
        "---\n",
        "03_fahrenheit_to_celsius.md"
      ],
      "metadata": {
        "id": "pPMKbg72dAHH"
      }
    },
    {
      "cell_type": "code",
      "source": [
        "def main():\n",
        "\n",
        "  fahrenheit = int(input(\"Enter the temperature in Fahrenheit:\"))\n",
        "  degrees_celsius = (fahrenheit - 32) * 5.0/9.0\n",
        "  print(f\"Temperature: {fahrenheit}F = {round(degrees_celsius, 2)}C\")\n",
        "\n",
        "\n",
        "# This provided line is required at the end of\n",
        "# Python file to call the main() function.\n",
        "if __name__ == '__main__':\n",
        "    main()"
      ],
      "metadata": {
        "colab": {
          "base_uri": "https://localhost:8080/"
        },
        "id": "M4QtQfdpdRLt",
        "outputId": "655f62c1-93df-4c4b-eea8-be4023c211eb"
      },
      "execution_count": null,
      "outputs": [
        {
          "output_type": "stream",
          "name": "stdout",
          "text": [
            "Enter the temperature in Fahrenheit:65\n",
            "Temperature: 65F = 18.33C\n"
          ]
        }
      ]
    },
    {
      "cell_type": "markdown",
      "source": [
        "\n",
        "\n",
        "---\n",
        "04_how_old_are_they.md\n"
      ],
      "metadata": {
        "id": "Asp0cMWk9h2I"
      }
    },
    {
      "cell_type": "code",
      "source": [
        "def main():\n",
        "  Anton: int = 21 # Given age of Anton\n",
        "  Beth: int = 6 + Anton # Beth is 6 older than Anton\n",
        "  Chen: int = 20 + Beth # Chen is 20 years older than Beth\n",
        "  Drew: int = Chen + Anton # Drew's age is chen's age + Anton's age\n",
        "  Ethan: int = Chen  # Same age as chen\n",
        "  print(\"Anton is: \", + (Anton))\n",
        "  print(\"Beth is: \", + (Beth))\n",
        "  print(\"Chen is: \", + (Chen))\n",
        "  print(\"Drew is: \", + (Drew))\n",
        "  print(\"Ethan is: \", + (Ethan))\n",
        "\n",
        "\n",
        "# This provided line is required at the end of\n",
        "# Python file to call the main() function.\n",
        "if __name__ == '__main__':\n",
        "    main()"
      ],
      "metadata": {
        "id": "hZTKR3_SYGNM",
        "colab": {
          "base_uri": "https://localhost:8080/"
        },
        "outputId": "6109f24d-373e-425f-ac0c-5cc0a9df0208"
      },
      "execution_count": null,
      "outputs": [
        {
          "output_type": "stream",
          "name": "stdout",
          "text": [
            "Anton is:  21\n",
            "Beth is:  27\n",
            "Chen is:  47\n",
            "Drew is:  68\n",
            "Ethan is:  47\n"
          ]
        }
      ]
    },
    {
      "cell_type": "markdown",
      "source": [
        "\n",
        "\n",
        "---\n",
        "05_triangle_perimeter.md\n"
      ],
      "metadata": {
        "id": "RZB4-YObRNVs"
      }
    },
    {
      "cell_type": "code",
      "source": [
        "def main():\n",
        "  side1 = int(input(\"Enter the length of side 1:\"))\n",
        "  side2 = int(input(\"Enter the length of side 2:\"))\n",
        "  side3 = int(input(\"Enter the length of side 3:\"))\n",
        "  perimeter = side1 + side2 + side3\n",
        "\n",
        "  print(f\"The perimeter of the triangle is : {perimeter}\")\n",
        "\n",
        "\n",
        "\n",
        "# This provided line is required at the end of\n",
        "# Python file to call the main() function.\n",
        "if __name__ == '__main__':\n",
        "    main()"
      ],
      "metadata": {
        "colab": {
          "base_uri": "https://localhost:8080/"
        },
        "id": "buQQgtwoRbUg",
        "outputId": "f653a08e-3b94-4a20-e814-c736ce74dc53"
      },
      "execution_count": null,
      "outputs": [
        {
          "output_type": "stream",
          "name": "stdout",
          "text": [
            "Enter the length of side 1:6\n",
            "Enter the length of side 2:9\n",
            "Enter the length of side 3:8\n",
            "The perimeter of the triangle is : 23\n"
          ]
        }
      ]
    },
    {
      "cell_type": "markdown",
      "source": [
        "\n",
        "\n",
        "---\n",
        "06_square_number.md\n"
      ],
      "metadata": {
        "id": "-sWPoQ0vULNa"
      }
    },
    {
      "cell_type": "code",
      "source": [
        "def main():\n",
        "  user_input = int(input(\"Enter a number: \"))\n",
        "\n",
        "\n",
        "  print(\"squared is: \" + str(user_input ** 2) )\n",
        "\n",
        "\n",
        "# There is no need to edit code beyond this point\n",
        "\n",
        "if __name__ == '__main__':\n",
        "    main()"
      ],
      "metadata": {
        "colab": {
          "base_uri": "https://localhost:8080/"
        },
        "id": "CczfyEkTUUSV",
        "outputId": "98c01697-3166-4430-bc4c-7763a6ae6f1d"
      },
      "execution_count": null,
      "outputs": [
        {
          "output_type": "stream",
          "name": "stdout",
          "text": [
            "Enter a number: 7\n",
            "squared is: 49\n"
          ]
        }
      ]
    }
  ]
}